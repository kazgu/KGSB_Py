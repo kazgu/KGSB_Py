{
 "cells": [
  {
   "cell_type": "code",
   "execution_count": 27,
   "metadata": {},
   "outputs": [],
   "source": [
    "import random\n",
    "snode=[]\n",
    "tnode=[]\n",
    "relation=[]\n",
    "nodetype=[]\n",
    "for i in range(1,10):\n",
    "    nodetype.append(i)\n",
    "for i in range(1,100):\n",
    "    snode.append('node%s'%i)\n",
    "for i in range(100,200):\n",
    "    snode.append('tnode%s'%i)\n",
    "for i in range(500):\n",
    "    fromNode=random.randint(0,100)\n",
    "    toNode=random.randint(100,200)\n",
    "    stype=random.randint(1,5)\n",
    "    ttype=random.randint(5,10)\n",
    "    item={}\n",
    "    item['source']=fromNode\n",
    "    item['relation']='Relation%s'%i\n",
    "    item['target']=toNode\n",
    "    item['sourcetype']=stype\n",
    "    item['targettype']=ttype\n",
    "    relation.append(item)"
   ]
  },
  {
   "cell_type": "code",
   "execution_count": 28,
   "metadata": {},
   "outputs": [],
   "source": [
    "import pandas as pd\n",
    "data=pd.DataFrame(relation)"
   ]
  },
  {
   "cell_type": "code",
   "execution_count": 30,
   "metadata": {},
   "outputs": [],
   "source": [
    "data=data[['source','relation','target','entitytype']]"
   ]
  },
  {
   "cell_type": "code",
   "execution_count": 31,
   "metadata": {},
   "outputs": [],
   "source": [
    "data.to_csv('data.csv',index=0)"
   ]
  },
  {
   "cell_type": "code",
   "execution_count": null,
   "metadata": {},
   "outputs": [],
   "source": []
  }
 ],
 "metadata": {
  "kernelspec": {
   "display_name": "Python 3",
   "language": "python",
   "name": "python3"
  },
  "language_info": {
   "codemirror_mode": {
    "name": "ipython",
    "version": 3
   },
   "file_extension": ".py",
   "mimetype": "text/x-python",
   "name": "python",
   "nbconvert_exporter": "python",
   "pygments_lexer": "ipython3",
   "version": "3.6.5"
  }
 },
 "nbformat": 4,
 "nbformat_minor": 2
}
